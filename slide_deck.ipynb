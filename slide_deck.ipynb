{
 "cells": [
  {
   "cell_type": "markdown",
   "metadata": {
    "slideshow": {
     "slide_type": "slide"
    }
   },
   "source": [
    "# Exploration of Loan Data from Prosper\n",
    "## by Kolawolé Ogounchi"
   ]
  },
  {
   "cell_type": "markdown",
   "metadata": {
    "slideshow": {
     "slide_type": "slide"
    }
   },
   "source": [
    "## Investigation Overview\n",
    "> This presentation is aimed to share our findings and conclusions based on the exploration of the Loan Data from the financial services company **Prosper**. \n",
    ".\n",
    "\n",
    "## Dataset Overview\n",
    "\n",
    "> The data set contains 113,937 loans with 81 variables on each loan, including loan amount, borrower rate (or interest rate), current loan status, borrower income, and many others, from which we have extracted the data referring to the subset of borrowers for which the company has to spend money in order to recover the money lent and we have analyzed **what might be the characteristics defining those borrowers?** and **what might be the reason(s) justifying their behaviours?** "
   ]
  },
  {
   "cell_type": "code",
   "execution_count": 12,
   "metadata": {
    "slideshow": {
     "slide_type": "skip"
    }
   },
   "outputs": [
    {
     "data": {
      "text/html": [
       "\n",
       "<style>\n",
       "div.output_png {\n",
       "  display: flex;\n",
       "  justify-content: center;\n",
       "}\n",
       "</style>\n"
      ],
      "text/plain": [
       "<IPython.core.display.HTML object>"
      ]
     },
     "metadata": {},
     "output_type": "display_data"
    }
   ],
   "source": [
    "# import all packages and set plots to be embedded inline\n",
    "import numpy as np\n",
    "import pandas as pd\n",
    "import matplotlib.pyplot as plt\n",
    "import seaborn as sb\n",
    "\n",
    "%matplotlib inline\n",
    "\n",
    "# suppress warnings from final output\n",
    "import warnings\n",
    "warnings.simplefilter(\"ignore\")\n",
    "\n",
    "# styling\n",
    "from IPython.core.display import display, HTML, Markdown\n",
    "display(HTML(\"\"\"\n",
    "<style>\n",
    "div.output_png {\n",
    "  display: flex;\n",
    "  justify-content: center;\n",
    "}\n",
    "</style>\n",
    "\"\"\"))"
   ]
  },
  {
   "cell_type": "code",
   "execution_count": 13,
   "metadata": {
    "slideshow": {
     "slide_type": "skip"
    }
   },
   "outputs": [],
   "source": [
    "# load in the dataset into a pandas dataframe\n",
    "df1 = pd.read_csv('~/Onedrive/DAN/project7/project/final/df1.csv')"
   ]
  },
  {
   "cell_type": "code",
   "execution_count": 14,
   "metadata": {
    "slideshow": {
     "slide_type": "skip"
    }
   },
   "outputs": [],
   "source": [
    "df1.drop('Unnamed: 0', axis=1, inplace=True)"
   ]
  },
  {
   "cell_type": "code",
   "execution_count": 15,
   "metadata": {
    "slideshow": {
     "slide_type": "skip"
    }
   },
   "outputs": [
    {
     "data": {
      "text/html": [
       "<div>\n",
       "<style scoped>\n",
       "    .dataframe tbody tr th:only-of-type {\n",
       "        vertical-align: middle;\n",
       "    }\n",
       "\n",
       "    .dataframe tbody tr th {\n",
       "        vertical-align: top;\n",
       "    }\n",
       "\n",
       "    .dataframe thead th {\n",
       "        text-align: right;\n",
       "    }\n",
       "</style>\n",
       "<table border=\"1\" class=\"dataframe\">\n",
       "  <thead>\n",
       "    <tr style=\"text-align: right;\">\n",
       "      <th></th>\n",
       "      <th>Term</th>\n",
       "      <th>LoanStatus</th>\n",
       "      <th>BorrowerRate</th>\n",
       "      <th>BorrowerState</th>\n",
       "      <th>Occupation</th>\n",
       "      <th>EmploymentStatus</th>\n",
       "      <th>IsBorrowerHomeowner</th>\n",
       "      <th>CreditScoreRangeLower</th>\n",
       "      <th>CreditScoreRangeUpper</th>\n",
       "      <th>TotalCreditLinespast7years</th>\n",
       "      <th>...</th>\n",
       "      <th>DelinquenciesLast7Years</th>\n",
       "      <th>DebtToIncomeRatio</th>\n",
       "      <th>IncomeVerifiable</th>\n",
       "      <th>StatedMonthlyIncome</th>\n",
       "      <th>LoanOriginalAmount</th>\n",
       "      <th>MonthlyLoanPayment</th>\n",
       "      <th>LP_CollectionFees</th>\n",
       "      <th>Recommendations</th>\n",
       "      <th>InvestmentFromFriendsCount</th>\n",
       "      <th>CreditScore</th>\n",
       "    </tr>\n",
       "  </thead>\n",
       "  <tbody>\n",
       "    <tr>\n",
       "      <th>0</th>\n",
       "      <td>36</td>\n",
       "      <td>Completed</td>\n",
       "      <td>0.1450</td>\n",
       "      <td>Missing</td>\n",
       "      <td>Missing</td>\n",
       "      <td>Missing</td>\n",
       "      <td>False</td>\n",
       "      <td>680.0</td>\n",
       "      <td>699.0</td>\n",
       "      <td>6.0</td>\n",
       "      <td>...</td>\n",
       "      <td>0.0</td>\n",
       "      <td>0.06</td>\n",
       "      <td>True</td>\n",
       "      <td>9583.333333</td>\n",
       "      <td>10000</td>\n",
       "      <td>57.64</td>\n",
       "      <td>-299.78</td>\n",
       "      <td>0</td>\n",
       "      <td>0</td>\n",
       "      <td>689.5</td>\n",
       "    </tr>\n",
       "    <tr>\n",
       "      <th>1</th>\n",
       "      <td>36</td>\n",
       "      <td>Current</td>\n",
       "      <td>0.1870</td>\n",
       "      <td>IL</td>\n",
       "      <td>Retail Management</td>\n",
       "      <td>Employed</td>\n",
       "      <td>False</td>\n",
       "      <td>680.0</td>\n",
       "      <td>699.0</td>\n",
       "      <td>19.0</td>\n",
       "      <td>...</td>\n",
       "      <td>0.0</td>\n",
       "      <td>0.37</td>\n",
       "      <td>True</td>\n",
       "      <td>4734.333333</td>\n",
       "      <td>15000</td>\n",
       "      <td>547.57</td>\n",
       "      <td>-93.09</td>\n",
       "      <td>0</td>\n",
       "      <td>0</td>\n",
       "      <td>689.5</td>\n",
       "    </tr>\n",
       "    <tr>\n",
       "      <th>2</th>\n",
       "      <td>36</td>\n",
       "      <td>Chargedoff</td>\n",
       "      <td>0.2300</td>\n",
       "      <td>CA</td>\n",
       "      <td>Other</td>\n",
       "      <td>Full-time</td>\n",
       "      <td>False</td>\n",
       "      <td>600.0</td>\n",
       "      <td>619.0</td>\n",
       "      <td>24.0</td>\n",
       "      <td>...</td>\n",
       "      <td>0.0</td>\n",
       "      <td>0.59</td>\n",
       "      <td>True</td>\n",
       "      <td>3891.666667</td>\n",
       "      <td>23500</td>\n",
       "      <td>909.68</td>\n",
       "      <td>-523.49</td>\n",
       "      <td>0</td>\n",
       "      <td>0</td>\n",
       "      <td>609.5</td>\n",
       "    </tr>\n",
       "    <tr>\n",
       "      <th>3</th>\n",
       "      <td>36</td>\n",
       "      <td>Completed</td>\n",
       "      <td>0.1500</td>\n",
       "      <td>NE</td>\n",
       "      <td>Other</td>\n",
       "      <td>Not employed</td>\n",
       "      <td>False</td>\n",
       "      <td>620.0</td>\n",
       "      <td>639.0</td>\n",
       "      <td>14.0</td>\n",
       "      <td>...</td>\n",
       "      <td>12.0</td>\n",
       "      <td>0.20</td>\n",
       "      <td>True</td>\n",
       "      <td>860.000000</td>\n",
       "      <td>1000</td>\n",
       "      <td>0.00</td>\n",
       "      <td>-33.29</td>\n",
       "      <td>0</td>\n",
       "      <td>0</td>\n",
       "      <td>629.5</td>\n",
       "    </tr>\n",
       "    <tr>\n",
       "      <th>4</th>\n",
       "      <td>36</td>\n",
       "      <td>Chargedoff</td>\n",
       "      <td>0.3177</td>\n",
       "      <td>AL</td>\n",
       "      <td>Social Worker</td>\n",
       "      <td>Employed</td>\n",
       "      <td>True</td>\n",
       "      <td>740.0</td>\n",
       "      <td>759.0</td>\n",
       "      <td>30.0</td>\n",
       "      <td>...</td>\n",
       "      <td>0.0</td>\n",
       "      <td>0.45</td>\n",
       "      <td>True</td>\n",
       "      <td>2583.333333</td>\n",
       "      <td>4000</td>\n",
       "      <td>173.71</td>\n",
       "      <td>-147.65</td>\n",
       "      <td>0</td>\n",
       "      <td>0</td>\n",
       "      <td>749.5</td>\n",
       "    </tr>\n",
       "  </tbody>\n",
       "</table>\n",
       "<p>5 rows × 21 columns</p>\n",
       "</div>"
      ],
      "text/plain": [
       "   Term  LoanStatus  BorrowerRate BorrowerState         Occupation  \\\n",
       "0    36   Completed        0.1450       Missing            Missing   \n",
       "1    36     Current        0.1870            IL  Retail Management   \n",
       "2    36  Chargedoff        0.2300            CA              Other   \n",
       "3    36   Completed        0.1500            NE              Other   \n",
       "4    36  Chargedoff        0.3177            AL      Social Worker   \n",
       "\n",
       "  EmploymentStatus  IsBorrowerHomeowner  CreditScoreRangeLower  \\\n",
       "0          Missing                False                  680.0   \n",
       "1         Employed                False                  680.0   \n",
       "2        Full-time                False                  600.0   \n",
       "3     Not employed                False                  620.0   \n",
       "4         Employed                 True                  740.0   \n",
       "\n",
       "   CreditScoreRangeUpper  TotalCreditLinespast7years     ...       \\\n",
       "0                  699.0                         6.0     ...        \n",
       "1                  699.0                        19.0     ...        \n",
       "2                  619.0                        24.0     ...        \n",
       "3                  639.0                        14.0     ...        \n",
       "4                  759.0                        30.0     ...        \n",
       "\n",
       "   DelinquenciesLast7Years  DebtToIncomeRatio  IncomeVerifiable  \\\n",
       "0                      0.0               0.06              True   \n",
       "1                      0.0               0.37              True   \n",
       "2                      0.0               0.59              True   \n",
       "3                     12.0               0.20              True   \n",
       "4                      0.0               0.45              True   \n",
       "\n",
       "   StatedMonthlyIncome  LoanOriginalAmount  MonthlyLoanPayment  \\\n",
       "0          9583.333333               10000               57.64   \n",
       "1          4734.333333               15000              547.57   \n",
       "2          3891.666667               23500              909.68   \n",
       "3           860.000000                1000                0.00   \n",
       "4          2583.333333                4000              173.71   \n",
       "\n",
       "   LP_CollectionFees  Recommendations  InvestmentFromFriendsCount  CreditScore  \n",
       "0            -299.78                0                           0        689.5  \n",
       "1             -93.09                0                           0        689.5  \n",
       "2            -523.49                0                           0        609.5  \n",
       "3             -33.29                0                           0        629.5  \n",
       "4            -147.65                0                           0        749.5  \n",
       "\n",
       "[5 rows x 21 columns]"
      ]
     },
     "execution_count": 15,
     "metadata": {},
     "output_type": "execute_result"
    }
   ],
   "source": [
    "df1.head()"
   ]
  },
  {
   "cell_type": "code",
   "execution_count": 16,
   "metadata": {
    "slideshow": {
     "slide_type": "skip"
    }
   },
   "outputs": [
    {
     "name": "stdout",
     "output_type": "stream",
     "text": [
      "<class 'pandas.core.frame.DataFrame'>\n",
      "RangeIndex: 7394 entries, 0 to 7393\n",
      "Data columns (total 21 columns):\n",
      "Term                          7394 non-null int64\n",
      "LoanStatus                    7394 non-null object\n",
      "BorrowerRate                  7394 non-null float64\n",
      "BorrowerState                 7394 non-null object\n",
      "Occupation                    7394 non-null object\n",
      "EmploymentStatus              7394 non-null object\n",
      "IsBorrowerHomeowner           7394 non-null bool\n",
      "CreditScoreRangeLower         7394 non-null float64\n",
      "CreditScoreRangeUpper         7394 non-null float64\n",
      "TotalCreditLinespast7years    7394 non-null float64\n",
      "CurrentDelinquencies          7394 non-null float64\n",
      "DelinquenciesLast7Years       7394 non-null float64\n",
      "DebtToIncomeRatio             7394 non-null float64\n",
      "IncomeVerifiable              7394 non-null bool\n",
      "StatedMonthlyIncome           7394 non-null float64\n",
      "LoanOriginalAmount            7394 non-null int64\n",
      "MonthlyLoanPayment            7394 non-null float64\n",
      "LP_CollectionFees             7394 non-null float64\n",
      "Recommendations               7394 non-null int64\n",
      "InvestmentFromFriendsCount    7394 non-null int64\n",
      "CreditScore                   7394 non-null float64\n",
      "dtypes: bool(2), float64(11), int64(4), object(4)\n",
      "memory usage: 1.1+ MB\n"
     ]
    }
   ],
   "source": [
    "df1.info()"
   ]
  },
  {
   "cell_type": "markdown",
   "metadata": {
    "slideshow": {
     "slide_type": "slide"
    }
   },
   "source": [
    "## Occupations\n",
    "\n",
    "> Our population of study is the borrowers whom collection fees are more than 0. We notice that the three major occupational categories in that population are: **Professionals**, **Administrative assistants**, and **Teachers**. "
   ]
  },
  {
   "cell_type": "code",
   "execution_count": 17,
   "metadata": {
    "slideshow": {
     "slide_type": "-"
    }
   },
   "outputs": [
    {
     "data": {
      "image/png": "[encoded data removed]",
      "text/plain": [
       "<matplotlib.figure.Figure at 0x1a1380c668>"
      ]
     },
     "metadata": {},
     "output_type": "display_data"
    }
   ],
   "source": [
    "df1['Occupation'][df1.Occupation != 'Other'].value_counts()[:5].plot(kind='bar', figsize=(12,6), colors='b');\n",
    "plt.xticks(rotation=0)\n",
    "plt.title('Occupation distribution');"
   ]
  },
  {
   "cell_type": "markdown",
   "metadata": {
    "collapsed": true,
    "slideshow": {
     "slide_type": "slide"
    }
   },
   "source": [
    "## Emploment status\n",
    "\n",
    "> Below we can see the distribution of **Employment Status** for the subset of our population of study that holds the occupations shown in the previous visualization and the take away is that for the majority they are working **Full-time** or are **Employed**.  "
   ]
  },
  {
   "cell_type": "code",
   "execution_count": 18,
   "metadata": {
    "slideshow": {
     "slide_type": "-"
    }
   },
   "outputs": [
    {
     "data": {
      "image/png": "[encoded data removed]",
      "text/plain": [
       "<matplotlib.figure.Figure at 0x1a138a2470>"
      ]
     },
     "metadata": {},
     "output_type": "display_data"
    }
   ],
   "source": [
    "df1.query(\"Occupation == ['Professional','Administrative Assistant', \\\n",
    "          'Teacher', 'Clerical', 'Sales - Commission']\") \\\n",
    "['EmploymentStatus'].value_counts().plot(kind='bar', colors='b', figsize=(12,6))\n",
    "plt.xticks(rotation=0)\n",
    "plt.title('Employment status distribution');"
   ]
  },
  {
   "cell_type": "markdown",
   "metadata": {
    "slideshow": {
     "slide_type": "slide"
    }
   },
   "source": [
    "## Debt-to-Income ratio\n",
    ">On top of everything we have seen above, the majority of our population of study have an above average debt-to-income ratio, which means making the monthly payment is not something that should have put a stress on their finances.  "
   ]
  },
  {
   "cell_type": "code",
   "execution_count": 19,
   "metadata": {
    "slideshow": {
     "slide_type": "-"
    }
   },
   "outputs": [
    {
     "data": {
      "image/png": "[encoded data removed]",
      "text/plain": [
       "<matplotlib.figure.Figure at 0x1a09e0af98>"
      ]
     },
     "metadata": {},
     "output_type": "display_data"
    }
   ],
   "source": [
    "good_ratio = sum(df1.query(\"DebtToIncomeRatio <= 0.36\")['DebtToIncomeRatio'].value_counts())\n",
    "bad_ratio = sum(df1.query(\"DebtToIncomeRatio > 0.36\")['DebtToIncomeRatio'].value_counts())\n",
    "\n",
    "sizes = [good_ratio, bad_ratio]\n",
    "labels = ['Above Average \\nD/I ratio', 'Below Average \\nD/I ratio']\n",
    "explode = (0, 0.1)\n",
    "fig1, ax1 = plt.subplots()\n",
    "ax1.pie(sizes, labels=labels, startangle=90, explode=explode)\n",
    "plt.tight_layout()\n",
    "plt.title('Debt-to-income ratio distribution')\n",
    "plt.show()"
   ]
  },
  {
   "cell_type": "markdown",
   "metadata": {
    "slideshow": {
     "slide_type": "slide"
    }
   },
   "source": [
    "## Credit score\n",
    ">Why is it costly to the company to collect the money back from those borrowers while most of them have pretty stable occupations and employment status, as well as enough room in their income to pay back the loan. The visualization below shows that most of them have a below average credit score, which means most of them have a history of not making their payment on time. The take away is that these borrowers behaviour is motivated by bad habit in the management of personal finances or just out of bad will.   "
   ]
  },
  {
   "cell_type": "code",
   "execution_count": 20,
   "metadata": {
    "slideshow": {
     "slide_type": "-"
    }
   },
   "outputs": [
    {
     "data": {
      "image/png": "[encoded data removed]",
      "text/plain": [
       "<matplotlib.figure.Figure at 0x1a09dd87b8>"
      ]
     },
     "metadata": {},
     "output_type": "display_data"
    }
   ],
   "source": [
    "bad_credit = sum(df1.query(\"CreditScore < 700\")['CreditScore'].value_counts())\n",
    "good_credit = sum(df1.query(\"CreditScore >= 700\")['CreditScore'].value_counts())\n",
    "\n",
    "sizes = [bad_credit, good_credit]\n",
    "labels = ['below average \\ncredit score', 'Above average \\ncredit score']\n",
    "explode = (0, 0.1)\n",
    "plt.pie(sizes, labels=labels, startangle=90, explode=explode)\n",
    "plt.tight_layout()\n",
    "plt.title('Credit score distribution')\n",
    "plt.show()"
   ]
  },
  {
   "cell_type": "markdown",
   "metadata": {
    "slideshow": {
     "slide_type": "slide"
    }
   },
   "source": [
    ">Our argument is supported by the following visualization which shows that our population of study is clustered just above 0 as debt-to-income ratio, which means the majority of them could definetly afford the payment, and adding more to that, the highest collection fees occur for a borrowers with debt-to-income ratio just a bit above 0. "
   ]
  },
  {
   "cell_type": "code",
   "execution_count": 21,
   "metadata": {
    "slideshow": {
     "slide_type": "-"
    }
   },
   "outputs": [
    {
     "data": {
      "image/png": "[encoded data removed]",
      "text/plain": [
       "<matplotlib.figure.Figure at 0x1a09e05470>"
      ]
     },
     "metadata": {},
     "output_type": "display_data"
    }
   ],
   "source": [
    "debtToIncome = df1.DebtToIncomeRatio\n",
    "collectionFees = df1.LP_CollectionFees\n",
    "plt.figure(figsize=(16,6))\n",
    "g = sb.regplot(x=debtToIncome, y=collectionFees, fit_reg=False)\n",
    "# Set axes labels and title\n",
    "g.set(xlabel='Debt-to-Income Ratio', ylabel='Collection Fees ($)',\n",
    "   title ='Collection Fees per Debt-to-Income Ratio' );"
   ]
  },
  {
   "cell_type": "markdown",
   "metadata": {
    "slideshow": {
     "slide_type": "slide"
    }
   },
   "source": [
    ">Something we could also point out based on the next visualization is that some of the highest collection fees happen with borrowers that even have above average credit scores but those are isolated cases, which means that the company is already doing a very good job selecting people who loan requests will be approved. "
   ]
  },
  {
   "cell_type": "code",
   "execution_count": 22,
   "metadata": {},
   "outputs": [
    {
     "data": {
      "image/png": "[encoded data removed]",
      "text/plain": [
       "<matplotlib.figure.Figure at 0x1a137fa668>"
      ]
     },
     "metadata": {},
     "output_type": "display_data"
    }
   ],
   "source": [
    "creditScore = df1.CreditScore\n",
    "collectionFees = df1.LP_CollectionFees\n",
    "plt.figure(figsize=(16,6))\n",
    "g = sb.regplot(x=creditScore, y=collectionFees, fit_reg=False)\n",
    "g.set(xlabel='Credit Score', ylabel='Collection Fees ($)',\n",
    "   title ='Collection Fees per Credit Score' );"
   ]
  },
  {
   "cell_type": "markdown",
   "metadata": {
    "slideshow": {
     "slide_type": "slide"
    }
   },
   "source": [
    "### Conclusion\n",
    ">Many people may have bad financial behaviours just out of negligence or bad will. Therefore Prosper could fix that by creating incentives for borrowers to payback their debts quickly and on time. And even put some strategies in place in order to provide a bit of financial education to their borrowers, which may end up being a strategical advantage in customer acquisition as it will make them look like a company who cares for their customers.   "
   ]
  },
  {
   "cell_type": "markdown",
   "metadata": {
    "slideshow": {
     "slide_type": "notes"
    }
   },
   "source": [
    "> Once you're ready to finish your presentation, check your output by using\n",
    "nbconvert to export the notebook and set up a server for the slides. From the\n",
    "terminal or command line, use the following expression:\n",
    "> > `jupyter nbconvert <file_name>.ipynb --to slides --post serve --template output_toggle`\n",
    "\n",
    "> This should open a tab in your web browser where you can scroll through your\n",
    "presentation. Sub-slides can be accessed by pressing 'down' when viewing its parent\n",
    "slide. Make sure you remove all of the quote-formatted guide notes like this one\n",
    "before you finish your presentation!"
   ]
  },
  {
   "cell_type": "markdown",
   "metadata": {
    "slideshow": {
     "slide_type": "slide"
    }
   },
   "source": [
    "# THANK YOU FOR YOUR ATTENTION!"
   ]
  }
 ],
 "metadata": {
  "celltoolbar": "Slideshow",
  "kernelspec": {
   "display_name": "Python 3",
   "language": "python",
   "name": "python3"
  },
  "language_info": {
   "codemirror_mode": {
    "name": "ipython",
    "version": 3
   },
   "file_extension": ".py",
   "mimetype": "text/x-python",
   "name": "python",
   "nbconvert_exporter": "python",
   "pygments_lexer": "ipython3",
   "version": "3.6.4"
  }
 },
 "nbformat": 4,
 "nbformat_minor": 2
}
